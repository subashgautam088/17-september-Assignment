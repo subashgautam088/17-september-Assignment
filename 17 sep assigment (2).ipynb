{
 "cells": [
  {
   "cell_type": "markdown",
   "id": "d29172f5-07a8-40ce-b829-9dc58c7751d7",
   "metadata": {},
   "source": [
    "For Loop Answers of 17 sep 2023"
   ]
  },
  {
   "cell_type": "code",
   "execution_count": 1,
   "id": "5774d561-8a4d-461b-83f5-b552a6de0971",
   "metadata": {},
   "outputs": [
    {
     "name": "stdout",
     "output_type": "stream",
     "text": [
      "1\n",
      "2\n",
      "3\n",
      "4\n",
      "5\n",
      "6\n",
      "7\n",
      "8\n",
      "9\n",
      "10\n"
     ]
    }
   ],
   "source": [
    "#####   1\n",
    "\n",
    "n=10\n",
    "for i in range(1,n+1):\n",
    "  print(i)"
   ]
  },
  {
   "cell_type": "raw",
   "id": "7b5c536a-7fec-4dc1-b1cd-15fa456b289e",
   "metadata": {},
   "source": [
    "# 2 \n",
    "# For loop is used to ittreate the data but when it seens False it didn't run even one time  where,\n",
    "# while loop is also used to itterate the data it run once even the condition is False "
   ]
  },
  {
   "cell_type": "code",
   "execution_count": 2,
   "id": "6f13632e-82fc-4616-a244-2ac603867405",
   "metadata": {},
   "outputs": [
    {
     "name": "stdout",
     "output_type": "stream",
     "text": [
      "5050\n"
     ]
    }
   ],
   "source": [
    "###  3\n",
    "\n",
    "sum_100 =0\n",
    "for i in range(1,101):\n",
    "  sum_100  +=i\n",
    "print(sum_100)"
   ]
  },
  {
   "cell_type": "code",
   "execution_count": 3,
   "id": "fef5d708-ee4b-4782-bc85-bc0c3517e402",
   "metadata": {},
   "outputs": [
    {
     "name": "stdout",
     "output_type": "stream",
     "text": [
      "1\n",
      "2\n",
      "3\n",
      "4\n",
      "5\n"
     ]
    }
   ],
   "source": [
    "####   4\n",
    "\n",
    "\n",
    "list = [1, 2, 3, 4, 5]\n",
    "for item in list:\n",
    "# Code executed for each item in the list\n",
    "    print(item)\n",
    "#  From this example we can understand how the for loop itterate the every item from the list , here the 'item' takes place the of current item in each iteration for every item.\n"
   ]
  },
  {
   "cell_type": "code",
   "execution_count": 4,
   "id": "9099e718-52a4-409e-9bc8-83bf66e7c9fe",
   "metadata": {},
   "outputs": [
    {
     "name": "stdout",
     "output_type": "stream",
     "text": [
      "The product of all elements 120\n"
     ]
    }
   ],
   "source": [
    "####   5\n",
    "\n",
    "a=1\n",
    "list5=[1,2,3,4,5]\n",
    "for item in list5:\n",
    "  a=a*item\n",
    "print(\"The product of all elements\",a)"
   ]
  },
  {
   "cell_type": "code",
   "execution_count": 8,
   "id": "260e20cb-a2d3-4d3f-a7e7-e9cfb62be170",
   "metadata": {},
   "outputs": [
    {
     "name": "stdout",
     "output_type": "stream",
     "text": [
      "Even number 1-20 is  [2, 4, 6, 8, 10, 12, 14, 16, 18, 20]\n"
     ]
    }
   ],
   "source": [
    "###   6\n",
    "\n",
    "emp=[]\n",
    "for item in range(1,21):\n",
    "  if (item%2==0):\n",
    "    emp.append(item)\n",
    "print(\"Even number 1-20 is \",emp)"
   ]
  },
  {
   "cell_type": "code",
   "execution_count": 11,
   "id": "7912730b-0ccc-4e92-9219-1f87a09bb51b",
   "metadata": {},
   "outputs": [
    {
     "name": "stdout",
     "output_type": "stream",
     "text": [
      "The factorial of 5 is 120\n"
     ]
    }
   ],
   "source": [
    "##  7\n",
    "\n",
    "n=5\n",
    "factorial=1\n",
    "if n==0:\n",
    "  print(1)\n",
    "else:\n",
    "  for i in range(1,n+1):\n",
    "    factorial *=i\n",
    "print(f\"The factorial of {n} is {factorial}\")"
   ]
  },
  {
   "cell_type": "code",
   "execution_count": 12,
   "id": "bffc24ec-eb15-4b6f-8468-4d10ad72a37d",
   "metadata": {},
   "outputs": [
    {
     "name": "stdout",
     "output_type": "stream",
     "text": [
      "p\n",
      "w\n",
      "S\n",
      "k\n",
      "i\n",
      "l\n",
      "l\n",
      "s\n"
     ]
    }
   ],
   "source": [
    "##  8\n",
    "\n",
    "# We can iterate character of string one by one by using for loop for example:-\n",
    "string=\"pwSkills\"\n",
    "for char in string:\n",
    "  print(char)"
   ]
  },
  {
   "cell_type": "code",
   "execution_count": 13,
   "id": "74d54195-cace-40ad-99ab-f2807cdaf88d",
   "metadata": {},
   "outputs": [
    {
     "name": "stdout",
     "output_type": "stream",
     "text": [
      "74\n"
     ]
    }
   ],
   "source": [
    "### 9\n",
    "\n",
    "l1 = [1,2,3,4,2,56,56,4,34,74]\n",
    "for max_no in l1:\n",
    "  if max_no >= max(l1):\n",
    "    print(max_no)"
   ]
  },
  {
   "cell_type": "code",
   "execution_count": 14,
   "id": "07409129-a7c7-43b7-8377-56fea2367a87",
   "metadata": {},
   "outputs": [
    {
     "name": "stdout",
     "output_type": "stream",
     "text": [
      "Fibonacci sequence up to limit 5 :\n",
      "0, 1, 1, 2, 3, 5, "
     ]
    }
   ],
   "source": [
    "##  10\n",
    "\n",
    "## Function to generate the Fibonacci sequence up to a specified limit\n",
    "limit = 5\n",
    "def fibonacci_sequence(limit):\n",
    "    fib_sequence = [] \n",
    "    a, b = 0, 1 \n",
    "    while a <= limit:\n",
    "        fib_sequence.append(a)  \n",
    "        a, b = b, a + b  \n",
    "    return fib_sequence\n",
    "# Check if the limit is valid\n",
    "if limit <= 0:\n",
    "    print(\"Please enter a positive limit.\")\n",
    "else:\n",
    "    print(\"Fibonacci sequence up to limit\", limit, \":\")\n",
    "    fib_sequence = fibonacci_sequence(limit)\n",
    "    for num in fib_sequence:\n",
    "        print(num, end=\", \")"
   ]
  },
  {
   "cell_type": "code",
   "execution_count": 15,
   "id": "e91defde-9c09-4086-aa44-ef6e6ce6166d",
   "metadata": {},
   "outputs": [
    {
     "name": "stdout",
     "output_type": "stream",
     "text": [
      "Vowels number in string2 is 7\n"
     ]
    }
   ],
   "source": [
    "##  11\n",
    "\n",
    "string2 =\"Hey I am from jaunpur\"\n",
    "vowels_count=\"aeiouAEIOU\"\n",
    "count=0\n",
    "for v in string2:\n",
    "  if v in vowels_count:\n",
    "    count += 1\n",
    "print(\"Vowels number in string2 is\",count)"
   ]
  },
  {
   "cell_type": "code",
   "execution_count": 17,
   "id": "72936143-fae2-4ac7-96c9-30057e7dff78",
   "metadata": {},
   "outputs": [
    {
     "name": "stdin",
     "output_type": "stream",
     "text": [
      "enter number  4\n"
     ]
    },
    {
     "name": "stdout",
     "output_type": "stream",
     "text": [
      "4X1 = 4\n",
      "4X2 = 8\n",
      "4X3 = 12\n",
      "4X4 = 16\n",
      "4X5 = 20\n",
      "4X6 = 24\n",
      "4X7 = 28\n",
      "4X8 = 32\n",
      "4X9 = 36\n",
      "4X10 = 40\n"
     ]
    }
   ],
   "source": [
    "##   12\n",
    "\n",
    "numb=int(input(\"enter number \"))\n",
    "for i in range(1,11):\n",
    "  print(f\"{numb}X{i} = {numb*i}\")"
   ]
  },
  {
   "cell_type": "code",
   "execution_count": 18,
   "id": "c6e57541-49f5-482c-907f-8dfdf37c71a8",
   "metadata": {},
   "outputs": [
    {
     "name": "stdout",
     "output_type": "stream",
     "text": [
      "['upgrade', 'courseera', 'ineuron', 'pwskills']\n",
      "[4, 3, 2, 1]\n"
     ]
    }
   ],
   "source": [
    "##    13\n",
    "\n",
    "str_list=['pwskills','ineuron','courseera','upgrade']\n",
    "str_list1=[1,2,3,4]\n",
    "for letter in range(1):\n",
    "  print(str_list[::-1])\n",
    "  print(str_list1[::-1])"
   ]
  },
  {
   "cell_type": "code",
   "execution_count": 19,
   "id": "f6b5bdde-c891-4a80-acca-d732ce270004",
   "metadata": {},
   "outputs": [
    {
     "name": "stdout",
     "output_type": "stream",
     "text": [
      "Common item are: [3, 4, 5]\n"
     ]
    }
   ],
   "source": [
    "###   14\n",
    "\n",
    "list1=[1,2,3,4,5,0,10]\n",
    "list2=[3,4,5,6,7,8,9]\n",
    "common_item=[]\n",
    "for item1 in list1:\n",
    "  for item2 in list2:\n",
    "    if item1==item2:\n",
    "      common_item.append(item1)\n",
    "print(\"Common item are:\",common_item)"
   ]
  },
  {
   "cell_type": "code",
   "execution_count": 20,
   "id": "b2e6053e-60cb-4297-803f-eb20c0b1b239",
   "metadata": {},
   "outputs": [
    {
     "name": "stdout",
     "output_type": "stream",
     "text": [
      "Key: name, Value: John\n",
      "Key: age, Value: 30\n",
      "Key: city, Value: New York\n"
     ]
    }
   ],
   "source": [
    "###   15\n",
    "\n",
    "my_dict = {'name': 'John', 'age': 30, 'city': 'New York'}\n",
    "# Using a for loop to iterate through keys and values\n",
    "for key, value in my_dict.items():\n",
    "    print(f\"Key: {key}, Value: {value}\")\n",
    "# We can iterate the value of dictioary by using 'items()' mtehod '.items()' provide the access of key-value pair as tuples."
   ]
  },
  {
   "cell_type": "code",
   "execution_count": 21,
   "id": "7be19f1f-fd29-484e-90d9-2372a8c52afd",
   "metadata": {},
   "outputs": [
    {
     "name": "stdout",
     "output_type": "stream",
     "text": [
      "The minimum number is 8\n",
      "The GCD of 8 and 9 is 1\n"
     ]
    }
   ],
   "source": [
    "####  16\n",
    "\n",
    "num1 =8\n",
    "num2 =9\n",
    "def find_gcd(num1, num2):\n",
    "    # Find the minimum of the two numbers\n",
    "    min_num = min(num1, num2)\n",
    "    print(\"The minimum number is\",min_num)\n",
    "    \n",
    "    gcd = 1\n",
    "    \n",
    "    # Use a for loop to check for common divisors\n",
    "    for i in range(1, min_num + 1):\n",
    "        if num1 % i == 0 and num2 % i == 0:\n",
    "            gcd = i\n",
    "    \n",
    "    return gcd\n",
    "# Find the GCD using the find_gcd function\n",
    "gcd = find_gcd(num1, num2)\n",
    "print(f\"The GCD of {num1} and {num2} is {gcd}\")"
   ]
  },
  {
   "cell_type": "code",
   "execution_count": 22,
   "id": "3efe62b2-aab3-4004-9439-9b4b0b137534",
   "metadata": {},
   "outputs": [
    {
     "name": "stdout",
     "output_type": "stream",
     "text": [
      "Radar is a palindrome.\n"
     ]
    }
   ],
   "source": [
    "####   17\n",
    "\n",
    "pal_str=\"Radar\"\n",
    "def is_palindrome(input_string):\n",
    "    clear_string = ''.join(input_string.split()).lower()\n",
    "# Initialize pointers for the start and end of the string\n",
    "    start = 0\n",
    "    end = len(clear_string) - 1\n",
    "\n",
    "# Use a for loop to check if it's a palindrome\n",
    "    for i in range(len(clear_string) // 2):\n",
    "        if clear_string[start] != clear_string[end]:\n",
    "            return False\n",
    "        start += 1\n",
    "        end -= 1\n",
    "\n",
    "    return True\n",
    "\n",
    "if is_palindrome(pal_str):\n",
    "    print(f\"{pal_str} is a palindrome.\")\n",
    "else:\n",
    "    print(f\"{pal_str} is not a palindrome.\")"
   ]
  },
  {
   "cell_type": "code",
   "execution_count": 23,
   "id": "bb7f36fc-dd7e-4fcc-869f-d5d6d47b0b3c",
   "metadata": {},
   "outputs": [
    {
     "name": "stdout",
     "output_type": "stream",
     "text": [
      "New list without duplicate [1, 2, 3, 4, 5, 6, 7, 8]\n"
     ]
    }
   ],
   "source": [
    "###   18\n",
    "\n",
    "dup_list=[1,2,3,4,5,6,4,3,5,7,8]\n",
    "sim_list=[]\n",
    "for i in dup_list:\n",
    "  if i not in sim_list:\n",
    "    sim_list.append(i)\n",
    "\n",
    "print(\"New list without duplicate\",sim_list)"
   ]
  },
  {
   "cell_type": "code",
   "execution_count": 24,
   "id": "8ea953c7-1227-4424-bfda-33c8591f01f2",
   "metadata": {},
   "outputs": [
    {
     "name": "stdout",
     "output_type": "stream",
     "text": [
      "The number of words in string 35\n"
     ]
    }
   ],
   "source": [
    "###   19\n",
    "\n",
    "str_19 =\"Hey, Hi I am new here can you help \"\n",
    "str_count=0\n",
    "for words in str_19:\n",
    "  str_count +=1\n",
    "print(\"The number of words in string\",str_count)"
   ]
  },
  {
   "cell_type": "code",
   "execution_count": 1,
   "id": "f2dac01d-57a8-44f4-86b3-003e668fd5c6",
   "metadata": {},
   "outputs": [
    {
     "name": "stdout",
     "output_type": "stream",
     "text": [
      "The sum of odd number of 1-50 is 625\n"
     ]
    }
   ],
   "source": [
    "##   20\n",
    "\n",
    "sum_odd = 0\n",
    "for i in range(1,51):\n",
    "  if (i%2 !=0):\n",
    "    sum_odd +=i\n",
    "print(\"The sum of odd number of 1-50 is\",sum_odd)"
   ]
  },
  {
   "cell_type": "code",
   "execution_count": 28,
   "id": "233db9e5-7d0a-4d89-b544-6e487b3d18bc",
   "metadata": {},
   "outputs": [
    {
     "name": "stdout",
     "output_type": "stream",
     "text": [
      "2023 is a leap year.\n"
     ]
    }
   ],
   "source": [
    "####    21\n",
    "\n",
    "year = 2023\n",
    "# Initialize a boolean flag to check if it's a leap year\n",
    "is_leapyear = False\n",
    "for y in range(year, year + 2): \n",
    "    if (y % 4 == 0 and y % 100 != 0) or (y % 400 == 0):\n",
    "        is_leapyear = True\n",
    "        break \n",
    "\n",
    "if is_leapyear:\n",
    "    print(f\"{year} is a leap year.\")\n",
    "else:\n",
    "    print(f\"{year} is not a leap year.\")"
   ]
  },
  {
   "cell_type": "code",
   "execution_count": 29,
   "id": "bec088f9-f862-4542-b89d-39eb197ba984",
   "metadata": {},
   "outputs": [
    {
     "name": "stdout",
     "output_type": "stream",
     "text": [
      "The approximate square root of 100 is 10.0\n"
     ]
    }
   ],
   "source": [
    "####    22\n",
    "\n",
    "sqr_numb=100\n",
    "guess = sqr_numb / 2.0\n",
    "# The number of iterations for the loop\n",
    "num_iterations = 10\n",
    "for _ in range(num_iterations):\n",
    "# Use the Newton-Raphson method to refine the guess\n",
    "    guess = 0.5 * (guess + (sqr_numb / guess))\n",
    "print(f\"The approximate square root of {sqr_numb} is {guess}\")"
   ]
  },
  {
   "cell_type": "code",
   "execution_count": 30,
   "id": "54861e60-e6b9-4d29-bd2b-3a68bc0cd48e",
   "metadata": {},
   "outputs": [
    {
     "name": "stdout",
     "output_type": "stream",
     "text": [
      "The LCM of 7 and 16 is 112\n"
     ]
    }
   ],
   "source": [
    "##########    23\n",
    "\n",
    "num3=7\n",
    "num4=16\n",
    "# Function to calculate the GCD (Greatest Common Divisor)\n",
    "def find_gcd(a, b):\n",
    "    while b:\n",
    "        a, b = b, a % b\n",
    "    return a\n",
    "# Calculate the GCD using the find_gcd function\n",
    "gcd = find_gcd(num3, num4)\n",
    "\n",
    "# Calculate the LCM using the formula: LCM = (num1 * num2) / GCD\n",
    "lcm = (num3 * num4) // gcd \n",
    "print(f\"The LCM of {num3} and {num4} is {lcm}\")"
   ]
  },
  {
   "cell_type": "markdown",
   "id": "7a484ff2-e10b-4a09-9093-e8f25b7c5903",
   "metadata": {},
   "source": [
    "If Else Answers "
   ]
  },
  {
   "cell_type": "code",
   "execution_count": 2,
   "id": "75a19afe-433e-4db6-a2b4-c33bfa9af198",
   "metadata": {},
   "outputs": [
    {
     "name": "stdin",
     "output_type": "stream",
     "text": [
      "Enter some number :  45\n"
     ]
    },
    {
     "name": "stdout",
     "output_type": "stream",
     "text": [
      "Positive number\n"
     ]
    }
   ],
   "source": [
    "##  1\n",
    "\n",
    "check_number=int(input(\"Enter some number : \"))\n",
    "if check_number ==0:\n",
    "  print(check_number,\" is number is zero\")\n",
    "elif check_number >0:\n",
    "  print(\"Positive number\")\n",
    "elif check_number <0:\n",
    "  print(\"Negative number\")\n",
    "else:\n",
    "  print(\"Invalid input\")"
   ]
  },
  {
   "cell_type": "code",
   "execution_count": 4,
   "id": "a6d4e0c5-2ae8-46f6-aadd-c0adf2d2fc1d",
   "metadata": {},
   "outputs": [
    {
     "name": "stdin",
     "output_type": "stream",
     "text": [
      "Enter some number :  3\n"
     ]
    },
    {
     "name": "stdout",
     "output_type": "stream",
     "text": [
      "Odd number\n"
     ]
    }
   ],
   "source": [
    "##  2\n",
    "num=int(input(\"Enter some number : \"))\n",
    "if num%2==0:\n",
    "\tprint(\"Even number\")\n",
    "else:\n",
    "\tprint(\"Odd number\")"
   ]
  },
  {
   "cell_type": "code",
   "execution_count": 13,
   "id": "bbe14114-ef45-404e-a53a-27ed240e7dad",
   "metadata": {},
   "outputs": [
    {
     "name": "stdout",
     "output_type": "stream",
     "text": [
      "I will buy shirt and\n",
      "I have no more money to buy pant so I will buy only shirt\n"
     ]
    }
   ],
   "source": [
    "##  3\n",
    "# We can use nested If-else statement if we have to check multiple condition on one reason or commitment. For ex:-\n",
    "rupee=500\n",
    "shirt_price=200\n",
    "pant_price=700\n",
    "remaining_rupee = rupee - shirt_price\n",
    "if (rupee >= shirt_price):\n",
    "  print(\"I will buy shirt and\")\n",
    "  if (pant_price < remaining_rupee):\n",
    "    print(\"I will buy pant also\")\n",
    "  else:\n",
    "    print(\"I have no more money to buy pant so I will buy only shirt\")\n",
    "else:\n",
    "  print(\"I have to collect more money for shirt\")"
   ]
  },
  {
   "cell_type": "code",
   "execution_count": 27,
   "id": "cde3ed45-8fc7-4c88-82d8-1b47ac6867a3",
   "metadata": {},
   "outputs": [
    {
     "name": "stdout",
     "output_type": "stream",
     "text": [
      "Greater number is  6\n"
     ]
    }
   ],
   "source": [
    "##   4\n",
    "a,b,c = 4,5,6\n",
    "if (a>b):\n",
    "  if (a>c):\n",
    "    print(\"Greater number is \",a)\n",
    "  else:\n",
    "    print(\"Greater number is \",c)\n",
    "else:\n",
    "  if (b>c):\n",
    "    print(\"Greater number is \",b)\n",
    "  else:\n",
    "    print(\"Greater number is \",c)"
   ]
  },
  {
   "cell_type": "code",
   "execution_count": 18,
   "id": "ed75814e-1423-4029-8794-e14d6948198f",
   "metadata": {},
   "outputs": [
    {
     "name": "stdout",
     "output_type": "stream",
     "text": [
      "The absolute value is  590\n"
     ]
    }
   ],
   "source": [
    "##   5\n",
    "# Program to find absolute value\n",
    "abs_num = 590\n",
    "if (abs_num < 0):\n",
    "  \tabs_value = -abs_num\n",
    "else:\n",
    "  \tabs_value = abs_num\n",
    "print(\"The absolute value is \", abs_value)"
   ]
  },
  {
   "cell_type": "code",
   "execution_count": 17,
   "id": "beab9602-9286-478c-b97c-3c45725428d3",
   "metadata": {},
   "outputs": [
    {
     "name": "stdin",
     "output_type": "stream",
     "text": [
      "Enter some character : ll\n"
     ]
    },
    {
     "name": "stdout",
     "output_type": "stream",
     "text": [
      "Consonant letter\n"
     ]
    }
   ],
   "source": [
    "##    6\n",
    "# Program to find the character is vowel or not\n",
    "chr_check = input(\"Enter some character :\" )\n",
    "vowels = \"aeiouAEIOU\"\n",
    "if chr_check in vowels:\n",
    "    print(\"Vowel letter \")\n",
    "else:\n",
    "  \tprint(\"Consonant letter\")"
   ]
  },
  {
   "cell_type": "code",
   "execution_count": 29,
   "id": "8662b75e-1def-46ed-a1ed-77eb51beeb02",
   "metadata": {},
   "outputs": [
    {
     "name": "stdin",
     "output_type": "stream",
     "text": [
      "Enter your age : 23\n"
     ]
    },
    {
     "name": "stdout",
     "output_type": "stream",
     "text": [
      "You are eligible to vote\n"
     ]
    }
   ],
   "source": [
    "##   7\n",
    "age =int(input(\"Enter your age :\"))\n",
    "if (age >=18):\n",
    "  \tprint(\"You are eligible to vote\")\n",
    "else:\n",
    "  \tprint(\"You are not eligible to vote\")"
   ]
  },
  {
   "cell_type": "code",
   "execution_count": 31,
   "id": "1019cf67-f946-43ea-ab12-c79f818446e7",
   "metadata": {},
   "outputs": [
    {
     "name": "stdout",
     "output_type": "stream",
     "text": [
      "The total discount amount  200.0\n"
     ]
    }
   ],
   "source": [
    "##   8\n",
    "# Program to find discount amount \n",
    "purchase_amt = 500\n",
    "# There is (40 and 60) % discount is available on (500 and 1000+) purchase amount \n",
    "discount_amt1= 0.40\n",
    "discount_amt2= 0.60\n",
    "if (purchase_amt >=500):\n",
    "  \tdiscount_amt = purchase_amt * discount_amt1\n",
    "elif (purchase_amt >= 1000):\n",
    "  \tdiscount_amt = purchase_amt *discount_amt2\n",
    "else:\n",
    "  if (purchase_amt < 500):\n",
    "    print(\"No Discount applied\")\n",
    "print(\"The total discount amount \", discount_amt)"
   ]
  },
  {
   "cell_type": "code",
   "execution_count": 32,
   "id": "e7e98c41-979b-4f34-b4c1-d272a069f2dc",
   "metadata": {},
   "outputs": [
    {
     "name": "stdin",
     "output_type": "stream",
     "text": [
      "Enter some number :  1000\n"
     ]
    },
    {
     "name": "stdout",
     "output_type": "stream",
     "text": [
      "Number is out of range\n"
     ]
    }
   ],
   "source": [
    "##   9\n",
    "range_n =int(input(\"Enter some number : \"))\n",
    "if range_n in range(1,999):\n",
    "  print(\"Yes the number in range\")\n",
    "else:\n",
    "  print(\"Number is out of range\")"
   ]
  },
  {
   "cell_type": "code",
   "execution_count": 33,
   "id": "571570be-a923-44e4-bf11-98fa63fb396f",
   "metadata": {},
   "outputs": [
    {
     "name": "stdout",
     "output_type": "stream",
     "text": [
      "The student grade is according to score is C\n"
     ]
    }
   ],
   "source": [
    "#   10\n",
    "#Program to find the grade of student according to their score:\n",
    "score = 79\n",
    "if score >= 90:\n",
    "  \tgrade =\"A\"\n",
    "elif score >= 80:\n",
    "  \tgrade =\"B\"\n",
    "elif score >= 70:\n",
    "  \tgrade =\"C\"\n",
    "elif score >= 60:\n",
    "  \tgrade =\"D\"\n",
    "else:\n",
    "  \tgrade =\"Fail\"\n",
    "print(\"The student grade is according to score is\",grade)"
   ]
  },
  {
   "cell_type": "code",
   "execution_count": 34,
   "id": "87e1e713-e8e3-4895-ad68-2c41e2c81243",
   "metadata": {},
   "outputs": [
    {
     "name": "stdout",
     "output_type": "stream",
     "text": [
      "String is not empty\n"
     ]
    }
   ],
   "source": [
    "##   11\n",
    "str_chk = \"Hey it's a program of checking string is empty or not\"\n",
    "if not str_chk:\n",
    "  \tprint(\"String is empty\")\n",
    "else:\n",
    "  \tprint(\"String is not empty\")"
   ]
  },
  {
   "cell_type": "code",
   "execution_count": 1,
   "id": "79fb9af7-d043-4baa-acd3-dd220e2e180e",
   "metadata": {},
   "outputs": [
    {
     "name": "stdin",
     "output_type": "stream",
     "text": [
      "Enter 1st side of traingle : 4.5\n",
      "Enter 2nd side of traingle : 6.4\n",
      "Enter 3rd side of traingle : 6.4\n"
     ]
    },
    {
     "name": "stdout",
     "output_type": "stream",
     "text": [
      "Isoscelse traingle\n"
     ]
    }
   ],
   "source": [
    "##   12\n",
    "# Program to find out the type of traingle\n",
    "side_1 = float(input(\"Enter 1st side of traingle :\"))\n",
    "side_2 = float(input(\"Enter 2nd side of traingle :\"))\n",
    "side_3 = float(input(\"Enter 3rd side of traingle :\"))\n",
    "if (side_1== side_2 == side_3 ):\n",
    "  print(\"Equilateral traingle\")\n",
    "elif (side_1==side_2 or side_1==side_3 or side_2==side_3 ):\n",
    "  print(\"Isoscelse traingle\")\n",
    "else:\n",
    "  print(\"Scalene traingle\")"
   ]
  },
  {
   "cell_type": "code",
   "execution_count": 14,
   "id": "2b23e0a5-9120-41a4-bf38-d47112bd0209",
   "metadata": {},
   "outputs": [
    {
     "name": "stdin",
     "output_type": "stream",
     "text": [
      "Enter 1-7 number : 3\n"
     ]
    },
    {
     "name": "stdout",
     "output_type": "stream",
     "text": [
      "According to user number  3 is  Tuesday\n"
     ]
    }
   ],
   "source": [
    "##   13\n",
    "# Program to decide the day according to user number\n",
    "user_no = int(input(\"Enter 1-7 number :\"))\n",
    "if 0<user_no <=7:\n",
    "\tif user_no ==1:\n",
    "  \t\tday_name =\"Sunday\"\n",
    "\telif user_no ==2:\n",
    "  \t\tday_name =\"Monday\"\n",
    "\telif user_no ==3:\n",
    "  \t\tday_name =\"Tuesday\"\n",
    "\telif user_no ==4:\n",
    "  \t\tday_name =\"Wednesday\"\n",
    "\telif user_no ==5:\n",
    "  \t\tday_name =\"Thursday\"\n",
    "\telif user_no ==6:\n",
    "  \t\tday_name =\"Friday\"\n",
    "\telif user_no ==7:\n",
    "  \t\tday_name =\"Saturday\"\n",
    "\tprint(\"According to user number \", user_no ,\"is \",day_name)\n",
    "if user_no >7 :\n",
    "  \tprint(\"Enter number between 1-7\")\n",
    "\t"
   ]
  },
  {
   "cell_type": "code",
   "execution_count": 15,
   "id": "b8301653-efdf-4f3c-a9e1-8299bea85ad5",
   "metadata": {},
   "outputs": [
    {
     "name": "stdin",
     "output_type": "stream",
     "text": [
      "Enter the year : 2023\n"
     ]
    },
    {
     "name": "stdout",
     "output_type": "stream",
     "text": [
      "2023 is not a leap year.\n"
     ]
    }
   ],
   "source": [
    "##   14\n",
    "year =int(input(\"Enter the year :\"))\n",
    "def is_leap_year(year):\n",
    "    if (year % 4 == 0 and year % 100 != 0) or (year % 400 == 0):\n",
    "        return True\n",
    "    else:\n",
    "        return False\n",
    "# Check if the year is a leap year using the is_leap_year function\n",
    "if is_leap_year(year):\n",
    "    print(f\"{year} is a leap year.\")\n",
    "else:\n",
    "    print(f\"{year} is not a leap year.\")"
   ]
  },
  {
   "cell_type": "code",
   "execution_count": 16,
   "id": "d4edd48a-7b67-4877-bf5c-a0639a4f5aac",
   "metadata": {},
   "outputs": [
    {
     "name": "stdout",
     "output_type": "stream",
     "text": [
      "5 is a positive number.\n"
     ]
    },
    {
     "ename": "AssertionError",
     "evalue": "-3 is not a positive number.",
     "output_type": "error",
     "traceback": [
      "\u001b[0;31m---------------------------------------------------------------------------\u001b[0m",
      "\u001b[0;31mAssertionError\u001b[0m                            Traceback (most recent call last)",
      "Cell \u001b[0;32mIn[16], line 14\u001b[0m\n\u001b[1;32m     10\u001b[0m         \u001b[38;5;28;01massert\u001b[39;00m num \u001b[38;5;241m>\u001b[39m \u001b[38;5;241m0\u001b[39m, \u001b[38;5;124mf\u001b[39m\u001b[38;5;124m\"\u001b[39m\u001b[38;5;132;01m{\u001b[39;00mnum\u001b[38;5;132;01m}\u001b[39;00m\u001b[38;5;124m is not a positive number.\u001b[39m\u001b[38;5;124m\"\u001b[39m\n\u001b[1;32m     13\u001b[0m check_ptve_number(\u001b[38;5;241m5\u001b[39m)   \u001b[38;5;66;03m# No assertion error will be raised\u001b[39;00m\n\u001b[0;32m---> 14\u001b[0m \u001b[43mcheck_ptve_number\u001b[49m\u001b[43m(\u001b[49m\u001b[38;5;241;43m-\u001b[39;49m\u001b[38;5;241;43m3\u001b[39;49m\u001b[43m)\u001b[49m  \u001b[38;5;66;03m# AssertionError will be raised with the specified message\u001b[39;00m\n",
      "Cell \u001b[0;32mIn[16], line 10\u001b[0m, in \u001b[0;36mcheck_ptve_number\u001b[0;34m(num)\u001b[0m\n\u001b[1;32m      8\u001b[0m     \u001b[38;5;28mprint\u001b[39m(\u001b[38;5;124mf\u001b[39m\u001b[38;5;124m\"\u001b[39m\u001b[38;5;132;01m{\u001b[39;00mnum\u001b[38;5;132;01m}\u001b[39;00m\u001b[38;5;124m is a positive number.\u001b[39m\u001b[38;5;124m\"\u001b[39m)\n\u001b[1;32m      9\u001b[0m \u001b[38;5;28;01melse\u001b[39;00m:\n\u001b[0;32m---> 10\u001b[0m     \u001b[38;5;28;01massert\u001b[39;00m num \u001b[38;5;241m>\u001b[39m \u001b[38;5;241m0\u001b[39m, \u001b[38;5;124mf\u001b[39m\u001b[38;5;124m\"\u001b[39m\u001b[38;5;132;01m{\u001b[39;00mnum\u001b[38;5;132;01m}\u001b[39;00m\u001b[38;5;124m is not a positive number.\u001b[39m\u001b[38;5;124m\"\u001b[39m\n",
      "\u001b[0;31mAssertionError\u001b[0m: -3 is not a positive number."
     ]
    }
   ],
   "source": [
    "##  15\n",
    "# Syntax of AssertionError:-\n",
    "#assert condition, \"Error mesaage\"\n",
    "#Example:-\n",
    "# Checking if a number is positive within an if-else block\n",
    "def check_ptve_number(num):\n",
    "    if num > 0:\n",
    "        print(f\"{num} is a positive number.\")\n",
    "    else:\n",
    "        assert num > 0, f\"{num} is not a positive number.\"\n",
    "\n",
    "\n",
    "check_ptve_number(5)   # No assertion error will be raised\n",
    "check_ptve_number(-3)  # AssertionError will be raised with the specified message\n"
   ]
  },
  {
   "cell_type": "code",
   "execution_count": 17,
   "id": "82d64017-1a05-4102-9f8e-31f8c430f439",
   "metadata": {},
   "outputs": [
    {
     "name": "stdin",
     "output_type": "stream",
     "text": [
      "Enter age for senior citizen discount : 98\n"
     ]
    },
    {
     "name": "stdout",
     "output_type": "stream",
     "text": [
      "You are eligible for senior citizen discount\n"
     ]
    }
   ],
   "source": [
    "##   16\n",
    "age =int(input(\"Enter age for senior citizen discount :\"))\n",
    "if (age >= 60):\n",
    "  print(\"You are eligible for senior citizen discount\")\n",
    "else:\n",
    "  print(\"You are not eligible for senior citizen discount\")"
   ]
  },
  {
   "cell_type": "code",
   "execution_count": 18,
   "id": "efa577b1-7baa-42a7-b654-947753d932ee",
   "metadata": {},
   "outputs": [
    {
     "name": "stdin",
     "output_type": "stream",
     "text": [
      "enter some character : fgh\n"
     ]
    },
    {
     "name": "stdout",
     "output_type": "stream",
     "text": [
      "The character fgh is lower case\n"
     ]
    }
   ],
   "source": [
    "##   17\n",
    "#Program to check character is in upper or lower case\n",
    "character=input(\"enter some character :\")\n",
    "if character.isalpha():\n",
    "  if character.isupper():\n",
    "    print(f\"The character {character} is upper case\")\n",
    "  elif character.islower():\n",
    "    print(f\"The character {character} is lower case\")\n",
    "else:\n",
    "  print(f\"The typed {character} is neither lower nor upper\")"
   ]
  },
  {
   "cell_type": "code",
   "execution_count": 19,
   "id": "1adb758a-be52-419a-9459-77235116ba4f",
   "metadata": {},
   "outputs": [
    {
     "name": "stdout",
     "output_type": "stream",
     "text": [
      "The roots are complex: -1.0 + 1.7320508075688772i and -1.0 - 1.7320508075688772i\n"
     ]
    }
   ],
   "source": [
    "##   18\n",
    "a = 4\n",
    "b = 8\n",
    "c = 16\n",
    "\n",
    "# Calculate the discriminant\n",
    "discriminant = b**2 - 4*a*c\n",
    "# Check the number and type of roots using if-else\n",
    "if discriminant > 0:\n",
    "    root1 = (-b + discriminant ** 0.5) / (2*a)\n",
    "    root2 = (-b - discriminant ** 0.5) / (2*a)\n",
    "    print(f\"The roots are real and different: {root1} and {root2}\")\n",
    "elif discriminant == 0:\n",
    "    root1 = -b / (2*a)\n",
    "    print(f\"The root is real and equal: {root1}\")\n",
    "else:\n",
    "    real_part = -b / (2*a)\n",
    "    imaginary_part = (-discriminant) ** 0.5 / (2*a)\n",
    "    print(f\"The roots are complex: {real_part} + {imaginary_part}i and {real_part} - {imaginary_part}i\")"
   ]
  },
  {
   "cell_type": "code",
   "execution_count": 20,
   "id": "be052d51-ccc3-4aaf-954f-b5a27af0a770",
   "metadata": {},
   "outputs": [
    {
     "name": "stdin",
     "output_type": "stream",
     "text": [
      "Enter year : 2023\n"
     ]
    },
    {
     "name": "stdout",
     "output_type": "stream",
     "text": [
      "The given year 2023 is not a century year\n"
     ]
    }
   ],
   "source": [
    "##    19\n",
    "year =int(input(\"Enter year :\"))\n",
    "if year % 100 ==0 :\n",
    "  print(f\"The given year {year} is century year\")\n",
    "else:\n",
    "  print(f\"The given year {year} is not a century year\")"
   ]
  },
  {
   "cell_type": "code",
   "execution_count": 21,
   "id": "ed538ff5-fc3f-4933-acbf-3b2a2f014117",
   "metadata": {},
   "outputs": [
    {
     "name": "stdin",
     "output_type": "stream",
     "text": [
      "Enter intger value : 64\n"
     ]
    },
    {
     "name": "stdout",
     "output_type": "stream",
     "text": [
      "64 is a perfect square.\n"
     ]
    }
   ],
   "source": [
    "#   20\n",
    "# Program to check a perfect square\n",
    "number =int(input(\"Enter intger value :\"))\n",
    "# Initialize a variable \n",
    "is_perfect_square = False\n",
    "\n",
    "# Checking a perfect square using if-else\n",
    "if number > 0:\n",
    "    square_root = int(number ** 0.5) \n",
    "    if square_root * square_root == number:  \n",
    "        is_perfect_square = True\n",
    "\n",
    "if is_perfect_square:\n",
    "    print(f\"{number} is a perfect square.\")\n",
    "else:\n",
    "    print(f\"{number} is not a perfect square.\")"
   ]
  },
  {
   "cell_type": "code",
   "execution_count": 22,
   "id": "170f91d9-641b-4805-86ba-ad3794849299",
   "metadata": {},
   "outputs": [
    {
     "name": "stdout",
     "output_type": "stream",
     "text": [
      "1\n",
      "3\n",
      "5\n",
      "Found 4!\n"
     ]
    }
   ],
   "source": [
    "##    21\n",
    "#The \"continue\" statement is used to skip the rest of the current iteration of a loop and move on to the next iteration. While, When \"break\" is encountered within a loop, it immediately terminates the loop, and control passes to the next statement outside the loop.\n",
    "# FOR EX:- \"CONTINUE STATEMENT\"\n",
    "for i in range(1, 6):\n",
    "    if i % 2 == 0:\n",
    "        continue  # Skip even numbers\n",
    "    print(i)\n",
    "# FOR EX:- \"BREAK STATEMENT\"\n",
    "numbers = [1, 2, 3, 4, 5, 6]\n",
    "target = 4\n",
    "for num in numbers:\n",
    "    if num == target:\n",
    "        print(f\"Found {target}!\")\n",
    "        break  # Stop searching when target is found"
   ]
  },
  {
   "cell_type": "code",
   "execution_count": 26,
   "id": "56af44ca-4470-4949-9f82-5ef2af1dc32a",
   "metadata": {},
   "outputs": [
    {
     "name": "stdin",
     "output_type": "stream",
     "text": [
      "Enter your weight in kilograms:  70\n",
      "Enter your height in meters:  170\n"
     ]
    },
    {
     "name": "stdout",
     "output_type": "stream",
     "text": [
      "Your BMI is: 0.002422145328719723\n",
      "You are categorized as: Underweight\n"
     ]
    }
   ],
   "source": [
    "##  22\n",
    "weight_kg = float(input(\"Enter your weight in kilograms: \"))\n",
    "height_m = float(input(\"Enter your height in meters: \"))\n",
    "\n",
    "# Calculate BMI\n",
    "bmi = weight_kg / (height_m ** 2)\n",
    "\n",
    "# Determine the BMI category using if-else\n",
    "if bmi < 18.5:\n",
    "    category = \"Underweight\"\n",
    "elif 18.5 <= bmi < 24.9:\n",
    "    category = \"Normal Weight\"\n",
    "elif 25 <= bmi < 29.9:\n",
    "    category = \"Overweight\"\n",
    "else:\n",
    "    category = \"Obese\"\n",
    "    \n",
    "print(f\"Your BMI is: {bmi:}\")\n",
    "print(f\"You are categorized as: {category}\")"
   ]
  },
  {
   "cell_type": "code",
   "execution_count": 27,
   "id": "1488391c-9354-40fc-b474-1b260cac4ef1",
   "metadata": {},
   "outputs": [
    {
     "name": "stdout",
     "output_type": "stream",
     "text": [
      "Even number list [2, 4, 6, 8, 10]\n"
     ]
    }
   ],
   "source": [
    "##    23\n",
    "list_7 = [1, 2, 3, 4, 5, 6, 7, 8, 9, 10]\n",
    "def is_even(num):\n",
    "    if num % 2 == 0:\n",
    "        return True\n",
    "    else:\n",
    "        return False\n",
    "      \n",
    "# Use the filter function to above function\n",
    "even_numbers = filter(is_even, list_7)\n",
    "# Convert the filter object into list\n",
    "even_numb_list = list(even_numbers)\n",
    "print(\"Even number list\",even_numb_list)"
   ]
  },
  {
   "cell_type": "code",
   "execution_count": 28,
   "id": "70f651d9-de40-4f04-b7f0-c9b70a4b36c5",
   "metadata": {},
   "outputs": [
    {
     "name": "stdin",
     "output_type": "stream",
     "text": [
      "Enter a positive integer:  79\n"
     ]
    },
    {
     "name": "stdout",
     "output_type": "stream",
     "text": [
      "79 is a prime number.\n"
     ]
    }
   ],
   "source": [
    "##    24\n",
    "num = int(input(\"Enter a positive integer: \"))\n",
    "# Checking the number is prime or not using if-else\n",
    "if num <= 1:\n",
    "    is_prime = False\n",
    "else:\n",
    "    is_prime = True\n",
    "    for i in range(2, int(num ** 0.5) + 1):\n",
    "        if num % i == 0:\n",
    "            is_prime = False\n",
    "            break\n",
    "# Detect the prime number and print it\n",
    "if is_prime:\n",
    "    print(f\"{num} is a prime number.\")\n",
    "else:\n",
    "    print(f\"{num} is not a prime number.\")"
   ]
  },
  {
   "cell_type": "markdown",
   "id": "6a91f83e-de26-4d23-8b59-39c3c535650d",
   "metadata": {},
   "source": [
    "Map ANSWERS"
   ]
  },
  {
   "cell_type": "code",
   "execution_count": 2,
   "id": "0534d92d-eab6-404d-9141-af1addaf080c",
   "metadata": {},
   "outputs": [
    {
     "name": "stdout",
     "output_type": "stream",
     "text": [
      "<map object at 0x7f898e530130>\n",
      "[1, 4, 9, 16, 25, 36, 49, 64]\n"
     ]
    }
   ],
   "source": [
    "## 1\n",
    "# Map function is used to simplify the process of applying a function to every item in an iterable without the need for explicit loops.\n",
    "#  SYNTAX OF MAP function()\n",
    "#   map(function, iterable oject)\n",
    "# FOR EX:-\n",
    "list1 = [1, 2, 3, 4, 5, 6, 7, 8]\n",
    "\n",
    "\n",
    "def sqr_fnc(a):\n",
    "  return a * a\n",
    "\n",
    "\n",
    "a = map(sqr_fnc, list1)\n",
    "# Here we print the map object of a\n",
    "print(a)\n",
    "# Here we print the map object 'a' into a list form\n",
    "print(list(a))"
   ]
  },
  {
   "cell_type": "code",
   "execution_count": 3,
   "id": "849b3e91-a569-4d37-9c34-a67dda8e7fe0",
   "metadata": {},
   "outputs": [
    {
     "name": "stdout",
     "output_type": "stream",
     "text": [
      "[4, 16, 9, 25, 36, 1]\n"
     ]
    }
   ],
   "source": [
    "##  2\n",
    "list2 = [2, 4, 3, 5, 6, 1]\n",
    "map_obj = list(map(lambda a: a * a, list2)) # using map to square an element into a list\n",
    "print(map_obj)"
   ]
  },
  {
   "cell_type": "code",
   "execution_count": 4,
   "id": "aba3c381-30a8-4cc5-bf72-96b619d5c1c5",
   "metadata": {},
   "outputs": [
    {
     "name": "stdout",
     "output_type": "stream",
     "text": [
      "[4, 1, 9, 16, 25, 4489, 64, 8100]\n",
      "[4, 1, 9, 16, 25, 4489, 64, 8100]\n"
     ]
    }
   ],
   "source": [
    "##  3\n",
    "# Both the map() and list comprehension are same but they have different syntax For EX:-\n",
    "# MAP SYNTAX :-  map(function, iterable)\n",
    "#It return map object and then converted into list\n",
    "# LIST Comprehension :- [Expression for item in iterable]\n",
    "#It directly produce the list\n",
    "# We would coose the map() when you don't need immediatetely result and when you have to save memory and LIST comprehension is used when you want to create a list with the transformed values in readable and straightforward manner.\n",
    "numbers = [2, 1, 3, 4, 5, 67, 8, 90]\n",
    "# MAP EXAMPLE:-\n",
    "sqr_fnc_map = print(list(map(lambda a: a * a, numbers)))\n",
    "# LIST COMPREHENSION EXAMPLE :-\n",
    "sqr_fnc_list_comprehesion = print([a * a for a in numbers])"
   ]
  },
  {
   "cell_type": "code",
   "execution_count": 5,
   "id": "06a87c58-bc7d-4d90-82c8-5d0ca567e034",
   "metadata": {},
   "outputs": [
    {
     "name": "stdout",
     "output_type": "stream",
     "text": [
      "['SUBHAM', 'KIRTI', 'AKASH', 'PRIYANSHU', 'NITESH', 'RAVI', 'PIYUSH', 'SIDHHARTHA', 'ASHRIB']\n",
      "['SUBHAM', 'KIRTI', 'AKASH', 'PRIYANSHU', 'NITESH', 'RAVI', 'PIYUSH', 'SIDHHARTHA', 'ASHRIB']\n"
     ]
    }
   ],
   "source": [
    "##  4\n",
    "name_list = [\"subham\", \"Kirti\", \"Akash\", \"Priyanshu\", \"Nitesh\", \"Ravi\", \"piyush\",\n",
    "  \"Sidhhartha\", \"Ashrib\"]\n",
    "\n",
    "\n",
    "def upper_case(name_list):\n",
    "  \treturn name_list.upper()\n",
    "\n",
    "\n",
    "print(list(map(upper_case, name_list)))\n",
    "# Same case by using lambda function\n",
    "print(list(map(lambda a: a.upper(), name_list)))"
   ]
  },
  {
   "cell_type": "code",
   "execution_count": 6,
   "id": "bcdc0a90-6427-4100-890c-2199fc440139",
   "metadata": {},
   "outputs": [
    {
     "name": "stdout",
     "output_type": "stream",
     "text": [
      "[6, 8, 6, 2, 4]\n"
     ]
    }
   ],
   "source": [
    "##  5\n",
    "str_list = [\"string\", \"function\", \"length\", \"of\", \"list\"]\n",
    "\n",
    "# print the length of each word of list by using map funstion\n",
    "print(list(map(lambda a: len(a), str_list)))"
   ]
  },
  {
   "cell_type": "code",
   "execution_count": 7,
   "id": "fc1ec09d-3638-4c03-96d1-1870c6d09165",
   "metadata": {},
   "outputs": [
    {
     "name": "stdout",
     "output_type": "stream",
     "text": [
      "[7, 9, 11, 13, 5]\n"
     ]
    }
   ],
   "source": [
    "##  6\n",
    "# We use the map() function to apply a custom function to elements of multiple lists simultaneously in Python by passing multiple iterable as argument to a map() function\n",
    "list3 = [1, 2, 3, 4, 5]\n",
    "list4 = [6, 7, 8, 9, 0]\n",
    "\n",
    "\n",
    "new_list = (list(map(lambda x, y: x + y, list3, list4)))\n",
    "print(new_list)"
   ]
  },
  {
   "cell_type": "code",
   "execution_count": 8,
   "id": "39cb3edf-c43f-419f-b692-32487a243b8a",
   "metadata": {},
   "outputs": [
    {
     "name": "stdout",
     "output_type": "stream",
     "text": [
      "The fahrenheit degree are : [77.9, 86.0, 59.540000000000006, 51.26, 32.0]\n"
     ]
    }
   ],
   "source": [
    "##  7\n",
    "#program to convert celsius degree into fahrenheit degree\n",
    "celsius_degree = [25.5, 30.0, 15.3, 10.7, 0.0]\n",
    "\n",
    "\n",
    "def celsius_to_fahrenheit(celsius):\n",
    "  fahrenheit = (celsius * 9 / 5) + 32\n",
    "  return fahrenheit\n",
    "\n",
    "\n",
    "fahrenheit_degree = list(map(celsius_to_fahrenheit, celsius_degree))\n",
    "print(\"The fahrenheit degree are :\", fahrenheit_degree)"
   ]
  },
  {
   "cell_type": "code",
   "execution_count": 9,
   "id": "a7678bd5-0299-4a69-a585-f40fc0c8b918",
   "metadata": {},
   "outputs": [
    {
     "name": "stdout",
     "output_type": "stream",
     "text": [
      "The rounded number are : [3, 4, 8, 9, 10]\n"
     ]
    }
   ],
   "source": [
    "##  8\n",
    "# We can convert the float number ino nearest integer by using round() function\n",
    "float_numbers = [3.2, 4.5, 7.6, 8.9, 9.9]\n",
    "round_number = list(map(round, float_numbers))\n",
    "print(\"The rounded number are :\", round_number)"
   ]
  },
  {
   "cell_type": "markdown",
   "id": "912c9376-f62a-4e56-a581-af5b62d26923",
   "metadata": {},
   "source": [
    "REDUCE  ANSWERS"
   ]
  },
  {
   "cell_type": "code",
   "execution_count": 10,
   "id": "95c0eae7-a16a-4e08-815d-530ea6fdd3c9",
   "metadata": {},
   "outputs": [
    {
     "name": "stdout",
     "output_type": "stream",
     "text": [
      "Product of all numbers: 120\n"
     ]
    }
   ],
   "source": [
    "##  1\n",
    "# The reduce() function in Python is used to reduce the iterable to a single value. To use the reduce() function, you need to import it from the functools module. SYNTAX OF REDUCE() function  reduce(function,iterable object)\n",
    "from functools import reduce\n",
    "numbers = [1, 2, 3, 4, 5]\n",
    "def product(x, y):\n",
    "    return x * y\n",
    "\n",
    "# Use reduce() to calculate the product of all numbers in the list\n",
    "result = reduce(product, numbers)\n",
    "print(\"Product of all numbers:\", result)"
   ]
  },
  {
   "cell_type": "code",
   "execution_count": 11,
   "id": "fd725320-0914-45b9-8d58-970d5dea0df9",
   "metadata": {},
   "outputs": [
    {
     "name": "stdout",
     "output_type": "stream",
     "text": [
      "362880\n"
     ]
    }
   ],
   "source": [
    "##  2\n",
    "list5=[9,8,7,6,5,4,3,2,1]\n",
    "# Multiplication of all elements of a list\n",
    "multi_list_5=print(reduce(lambda x,y: x*y,list5))"
   ]
  },
  {
   "cell_type": "code",
   "execution_count": 12,
   "id": "dbd40dcb-036f-4e15-99c2-299bd28065bb",
   "metadata": {},
   "outputs": [
    {
     "name": "stdout",
     "output_type": "stream",
     "text": [
      "4444\n",
      "4444\n"
     ]
    }
   ],
   "source": [
    "##  3\n",
    "list6=[22,33,4,4444,55,66,88,77,99,100,]\n",
    "def max_element(a,b):\n",
    "  \treturn max(a,b)\n",
    "#Find maximum element of list byusing function\n",
    "max_element1=print(reduce(max_element, list6))\n",
    "# find maximum element by using reduce function\n",
    "max_element2=print(reduce(lambda x,y: x if x>y else y,list6))"
   ]
  },
  {
   "cell_type": "code",
   "execution_count": 13,
   "id": "7525d729-5198-48f6-b25f-a6149c11c5ce",
   "metadata": {},
   "outputs": [
    {
     "name": "stdout",
     "output_type": "stream",
     "text": [
      "Concatenated string: Hello, World!\n"
     ]
    }
   ],
   "source": [
    "##  4\n",
    "string_list = [\"Hello\", \", \", \"World\", \"!\"]\n",
    "\n",
    "def concatenate_strings(x, y):\n",
    "    return x + y\n",
    "  \n",
    "result_string=reduce(concatenate_strings, string_list)\n",
    "print(\"Concatenated string:\", result_string)"
   ]
  },
  {
   "cell_type": "code",
   "execution_count": 15,
   "id": "7283f754-9bcb-45f4-8c63-8c0f1fdc63f4",
   "metadata": {},
   "outputs": [
    {
     "name": "stdin",
     "output_type": "stream",
     "text": [
      "Enter a number : 5\n"
     ]
    },
    {
     "name": "stdout",
     "output_type": "stream",
     "text": [
      "120\n"
     ]
    }
   ],
   "source": [
    "##  5\n",
    "# program of factorial using reduce() function\n",
    "n= int(input(\"Enter a number :\"))\n",
    "fact_reduce=print(reduce(lambda x,y: x*y,range(1,n+1,1)))"
   ]
  },
  {
   "cell_type": "code",
   "execution_count": 16,
   "id": "1017ebbb-fb37-4b2c-b274-ba05dd120956",
   "metadata": {},
   "outputs": [
    {
     "name": "stdout",
     "output_type": "stream",
     "text": [
      "10\n"
     ]
    }
   ],
   "source": [
    "##  6\n",
    "# Program to find out GCD \n",
    "list7=[60,70,80,90,100]\n",
    "def gcd(x, y):\n",
    "    while y != 0:\n",
    "        x, y = y, x % y\n",
    "    return x\n",
    "gcd_reduce=print(reduce(gcd,list7))"
   ]
  },
  {
   "cell_type": "code",
   "execution_count": 17,
   "id": "69831436-d00b-40a5-aff9-67c8118777a3",
   "metadata": {},
   "outputs": [
    {
     "name": "stdout",
     "output_type": "stream",
     "text": [
      "14\n"
     ]
    }
   ],
   "source": [
    "##  7\n",
    "list8=[2,3,4,5]\n",
    "def sum_no(a,b):\n",
    "  \treturn a+b\n",
    "  \n",
    "sum_reduce=print(reduce(sum_no,list8))"
   ]
  },
  {
   "cell_type": "markdown",
   "id": "af5997ff-e138-4d6e-978f-93ac41496aa7",
   "metadata": {},
   "source": [
    "FILTER ANSWERS"
   ]
  },
  {
   "cell_type": "code",
   "execution_count": 19,
   "id": "5978426e-221a-459b-92a6-d790cda47d11",
   "metadata": {},
   "outputs": [
    {
     "name": "stdout",
     "output_type": "stream",
     "text": [
      "[1, 5, 7, 9]\n"
     ]
    }
   ],
   "source": [
    "##  1\n",
    "# The filter() function in Python is used to filter elements from an iterable  based on a specified condition.It return a filter object which is then convert into a list. Basic SYNTAX of filter function() :-   filter(function, iterable). \n",
    "#  FOR EX:-\n",
    "list9=[1,2,34,5,6,7,8,9,16]\n",
    "# Find out the odd number\n",
    "list_filter=print(list(filter(lambda x: x%2!=0, list9)))"
   ]
  },
  {
   "cell_type": "code",
   "execution_count": 20,
   "id": "3b57b271-bd7e-41f2-ab77-85d910555abf",
   "metadata": {},
   "outputs": [
    {
     "name": "stdout",
     "output_type": "stream",
     "text": [
      "[2, 4, 6, 78, 20]\n"
     ]
    }
   ],
   "source": [
    "##  2\n",
    "#Program to select even number from list\n",
    "list10=[2,3,4,5,6,78,9,20]\n",
    "list_flt=print(list(filter(lambda x: x%2==0,list10)))"
   ]
  },
  {
   "cell_type": "code",
   "execution_count": 21,
   "id": "68dbfa67-7f52-443b-a66c-fcfac5f1d19e",
   "metadata": {},
   "outputs": [
    {
     "name": "stdout",
     "output_type": "stream",
     "text": [
      "['subash', 'shubham', 'sarvesh']\n"
     ]
    }
   ],
   "source": [
    "##  3\n",
    "# Program to find out name which start with \"s\"\n",
    "name_list=[\"subash\",\"shubham\",\"dilip\",\"kamlesh\",\"aditya\",\"vishal\",\"rajan\",\"sarvesh\",\"hitesh\",\"prashant\"]\n",
    "list_filter=print(list(filter(lambda a: a.startswith(\"s\"),name_list)))"
   ]
  },
  {
   "cell_type": "code",
   "execution_count": 22,
   "id": "d9051dc6-a631-4e24-acaf-5dcc44391f6a",
   "metadata": {},
   "outputs": [
    {
     "name": "stdout",
     "output_type": "stream",
     "text": [
      "Prime numbers: [2, 3, 5, 7]\n"
     ]
    }
   ],
   "source": [
    "##  4\n",
    "# By using a sympy library we can find out the prime number from the list\n",
    "import sympy\n",
    "\n",
    "numbers = [1, 2, 3, 4, 5, 6, 7, 8, 9, 10]\n",
    "prime_numbers = list(filter(sympy.isprime, numbers))\n",
    "print(\"Prime numbers:\", prime_numbers)"
   ]
  },
  {
   "cell_type": "code",
   "execution_count": 23,
   "id": "bd5c69bc-698a-4909-ab94-997adf2238ea",
   "metadata": {},
   "outputs": [
    {
     "name": "stdout",
     "output_type": "stream",
     "text": [
      "[1, 3, 5, 7]\n"
     ]
    }
   ],
   "source": [
    "##  5\n",
    "# Program to remove None values from list\n",
    "none_list=[1,None,3,None,5,None,None,7]\n",
    "flt_list=list(filter(lambda x: x is not None,none_list))\n",
    "print(flt_list)"
   ]
  },
  {
   "cell_type": "code",
   "execution_count": 24,
   "id": "10bf85eb-90fb-4c2a-b71c-d9c68d727169",
   "metadata": {},
   "outputs": [
    {
     "name": "stdout",
     "output_type": "stream",
     "text": [
      "['banana', 'cherry', 'elderberry']\n"
     ]
    }
   ],
   "source": [
    "##  6\n",
    "# Program to find longer word than the certain length\n",
    "word_list = [\"apple\", \"banana\", \"cherry\", \"date\", \"elderberry\", \"fig\", \"grape\"]\n",
    "min_length = 5\n",
    "certain_len_words=print(list(filter(lambda a: len(a)>min_length,word_list)))"
   ]
  },
  {
   "cell_type": "code",
   "execution_count": 25,
   "id": "be54727f-c238-4455-8967-31e04249fa95",
   "metadata": {},
   "outputs": [
    {
     "name": "stdout",
     "output_type": "stream",
     "text": [
      "[25, 30, 40]\n"
     ]
    }
   ],
   "source": [
    "##  7\n",
    "# Program o find out number greater than the threshold value from the list.\n",
    "values = [10, 25, 5, 30, 15, 40, 20]\n",
    "threshold = 20\n",
    "flt_values=print(list(filter(lambda a: a>threshold,values)))"
   ]
  },
  {
   "cell_type": "markdown",
   "id": "809c13ec-9d78-4690-bc48-5d43c0b83033",
   "metadata": {},
   "source": [
    "RECURSION  ANSWERS"
   ]
  },
  {
   "cell_type": "raw",
   "id": "0a0274df-da79-4c08-84c7-0387d9c84ae1",
   "metadata": {},
   "source": [
    "##  1\n",
    "# Recursion is used to call itself to solve a problem. It differ from iteration in the way of solving problem recursion is used to solve easy and difficult code which have a recursive structure while iteration is used to code for sequential problem."
   ]
  },
  {
   "cell_type": "code",
   "execution_count": 28,
   "id": "154aebb9-f366-4382-b31d-58ef9420f228",
   "metadata": {},
   "outputs": [
    {
     "name": "stdout",
     "output_type": "stream",
     "text": [
      "720\n"
     ]
    }
   ],
   "source": [
    "##  2\n",
    "def fact(n):\n",
    "  if n==0:\n",
    "    return 1\n",
    "  else:\n",
    "    return n*fact(n-1)\n",
    "factorial=fact(6)\n",
    "print(factorial)"
   ]
  },
  {
   "cell_type": "code",
   "execution_count": 33,
   "id": "6c67ff67-2301-4a0d-85b3-502e402af7cd",
   "metadata": {},
   "outputs": [
    {
     "name": "stdin",
     "output_type": "stream",
     "text": [
      "Enter number : 8\n"
     ]
    },
    {
     "name": "stdout",
     "output_type": "stream",
     "text": [
      "21\n"
     ]
    }
   ],
   "source": [
    "##  3\n",
    "# PRogram to find fibonacci number\n",
    "n=int(input(\"Enter number :\"))\n",
    "def fib(n):\n",
    "  if (n==0):\n",
    "    return 0\n",
    "  elif n==1:\n",
    "    return 1\n",
    "  else:\n",
    "    return fib(n-2) +fib(n-1)\n",
    "fibonacci=fib(n)\n",
    "print(fibonacci)"
   ]
  },
  {
   "cell_type": "code",
   "execution_count": 34,
   "id": "3a538817-b35f-4f92-a119-361b3d593331",
   "metadata": {},
   "outputs": [
    {
     "name": "stdout",
     "output_type": "stream",
     "text": [
      "Sum of the list 426\n"
     ]
    }
   ],
   "source": [
    "##  4\n",
    "list11=[11,22,3,33,44,55,66,77,8,8,99]\n",
    "def sum_item(a):\n",
    "  if not a:\n",
    "    return 0\n",
    "  else:\n",
    "    return a[0] + sum_item(a[1:])\n",
    "sum_of_list=sum_item(list11)\n",
    "print(\"Sum of the list\",sum_of_list)"
   ]
  },
  {
   "cell_type": "raw",
   "id": "86fd437b-6f10-427c-b70e-ea744888969d",
   "metadata": {},
   "source": [
    "##  5\n",
    "#To prevent a recursive function from running indefinitely and causing a stack overflow error, you need to ensure that the recursion has a proper termination condition."
   ]
  },
  {
   "cell_type": "code",
   "execution_count": 38,
   "id": "0e7652f8-9b31-4052-a788-ffe924309b25",
   "metadata": {},
   "outputs": [
    {
     "name": "stdin",
     "output_type": "stream",
     "text": [
      "enter 1st number : 16\n",
      "enter 2nd number : 48\n"
     ]
    },
    {
     "name": "stdout",
     "output_type": "stream",
     "text": [
      "GCD: 16\n"
     ]
    }
   ],
   "source": [
    "##  6\n",
    "#Program to calculate teh GCD \n",
    "num1=int(input(\"enter 1st number :\"))\n",
    "num2=int(input(\"enter 2nd number :\"))\n",
    "def gcd(a, b):\n",
    "# Base case: When b is 0, the GCD is a\n",
    "    if b == 0:\n",
    "        return a\n",
    "# Recursive case: Calculate the GCD by taking the remainder\n",
    "    else:\n",
    "        return gcd(b, a % b)\n",
    "      \n",
    "result = gcd(num1, num2)\n",
    "print(\"GCD:\", result)"
   ]
  },
  {
   "cell_type": "code",
   "execution_count": 39,
   "id": "32fc935c-179d-452c-bf79-e1037156da6d",
   "metadata": {},
   "outputs": [
    {
     "name": "stdout",
     "output_type": "stream",
     "text": [
      "The reversed string sllikswP yeH\n"
     ]
    }
   ],
   "source": [
    "##  7\n",
    "str=\"Hey Pwskills\"\n",
    "def reverse_string(str):\n",
    "  if len(str)<=1:\n",
    "    return str\n",
    "  else:\n",
    "    return str[-1] + reverse_string(str[:-1])\n",
    "reversed_str=reverse_string(str)\n",
    "print(\"The reversed string\",reversed_str)"
   ]
  },
  {
   "cell_type": "code",
   "execution_count": 43,
   "id": "4c2d1926-1889-49ad-b177-d764a0cf94e3",
   "metadata": {},
   "outputs": [
    {
     "name": "stdin",
     "output_type": "stream",
     "text": [
      "Enter number to find power : 4\n",
      "Enter power : 5\n"
     ]
    },
    {
     "name": "stdout",
     "output_type": "stream",
     "text": [
      "The power of  4 is : 1024\n"
     ]
    }
   ],
   "source": [
    "##  8\n",
    "# Program to calculate the power of number\n",
    "n=int(input(\"Enter number to find power :\"))\n",
    "k=int(input(\"Enter power :\"))\n",
    "def fnc_power(n,k):\n",
    "  if k==0:\n",
    "    return 1\n",
    "  else:\n",
    "    return n*fnc_power(n,k-1)\n",
    "fnl_result=fnc_power(n,k)\n",
    "print(\"The power of \",n,\"is :\",fnl_result)"
   ]
  },
  {
   "cell_type": "code",
   "execution_count": 46,
   "id": "da51d67b-2459-4d8b-a4e5-4e0c71464c35",
   "metadata": {},
   "outputs": [
    {
     "name": "stdout",
     "output_type": "stream",
     "text": [
      "All permutations:\n",
      "my\n",
      "ym\n"
     ]
    }
   ],
   "source": [
    "##  9\n",
    "original_string=\"my\"\n",
    "def find_permutations(input_str):\n",
    "    if len(input_str) == 0:\n",
    "        return ['']\n",
    "\n",
    "    first_char = input_str[0]\n",
    "    rest_of_str = input_str[1:]\n",
    "    partial_permutations = find_permutations(rest_of_str)\n",
    "\n",
    "    all_permutations = []\n",
    "    for perm in partial_permutations:\n",
    "        for i in range(len(perm) + 1):\n",
    "            new_permutation = perm[:i] + first_char + perm[i:]\n",
    "            all_permutations.append(new_permutation)\n",
    "\n",
    "    return all_permutations\n",
    "# Call the recursive function to find all permutations\n",
    "all_permutations = find_permutations(original_string)\n",
    "\n",
    "print(\"All permutations:\")\n",
    "for permutation in all_permutations:\n",
    "    print(permutation)"
   ]
  },
  {
   "cell_type": "code",
   "execution_count": 48,
   "id": "faef36d0-4d0c-4b22-82c3-7f7fcc6ea035",
   "metadata": {},
   "outputs": [
    {
     "name": "stdout",
     "output_type": "stream",
     "text": [
      "The string is palindrome\n"
     ]
    }
   ],
   "source": [
    "##  10\n",
    "original_string =\"pwskills sllikswp\"\n",
    "remove_space=original_string.replace(\" \",\"\").lower()\n",
    "def is_palindrome(input_str):\n",
    "  if len(input_str)<=1:\n",
    "    return True\n",
    "  if input_str[0] != input_str[-1]:\n",
    "    return False\n",
    "  else:\n",
    "    return True\n",
    "\n",
    "  return is_palindrome(input_str)\n",
    "\n",
    "palindrome_str=is_palindrome(original_string)\n",
    "\n",
    "if palindrome_str==True:\n",
    "  \tprint(\"The string is palindrome\")\n",
    "else:\n",
    "  \tprint(\"The string is not palindrome\")"
   ]
  },
  {
   "cell_type": "code",
   "execution_count": 49,
   "id": "ffec2ec6-4bd9-4e5a-9fe7-bf39425342ed",
   "metadata": {},
   "outputs": [
    {
     "name": "stdout",
     "output_type": "stream",
     "text": [
      "All possible combinations:\n",
      "[]\n",
      "['hey']\n",
      "[4]\n",
      "['hey', 4]\n"
     ]
    }
   ],
   "source": [
    "##  11\n",
    "elements = [\"hey\",4]\n",
    "def generate_combinations(elements):\n",
    "    if len(elements) == 0:\n",
    "        return [[]]\n",
    "\n",
    "    first_element = elements[0]\n",
    "    rest_of_elements = elements[1:]\n",
    "\n",
    "    combinations_without_first = generate_combinations(rest_of_elements)\n",
    "\n",
    "    combinations_with_first = []\n",
    "    for combi in combinations_without_first:\n",
    "        combinations_with_first.append(combi)\n",
    "        combinations_with_first.append([first_element] + combi)\n",
    "\n",
    "    return combinations_with_first\n",
    "\n",
    "\n",
    "# Call the recursive function to generate all combinations\n",
    "all_combinations = generate_combinations(elements)\n",
    "\n",
    "print(\"All possible combinations:\")\n",
    "for combination in all_combinations:\n",
    "    print(combination)"
   ]
  },
  {
   "cell_type": "markdown",
   "id": "448f1ae6-8115-4784-8ac1-71ab2b99dc50",
   "metadata": {},
   "source": [
    "BASIC OF FUNCTIONS ANSWERS"
   ]
  },
  {
   "cell_type": "raw",
   "id": "0e410b14-c757-40fe-8c9c-f6c383994a3b",
   "metadata": {},
   "source": [
    "##  1\n",
    "# In python , function is a block of code which is reusable and perform a specific task.It is used beacause it increase code readability and dosen't allow to write same code for same task. It just make it call for once and then it do it's work."
   ]
  },
  {
   "cell_type": "code",
   "execution_count": 50,
   "id": "974078ae-aeea-4c92-b149-b2e397c7ecdf",
   "metadata": {},
   "outputs": [
    {
     "name": "stdout",
     "output_type": "stream",
     "text": [
      "The sum of two numbers 8\n"
     ]
    }
   ],
   "source": [
    "##  2\n",
    "# In python we define function by using def keyword followed by function name and a pair of paranthesis contain a paramter and : colon. FOR EX :-\n",
    "def add_sum(a,b):\n",
    "  \treturn a+b\n",
    "c=add_sum(3,5)\n",
    "print(\"The sum of two numbers\",c)\n",
    "# this function s used to add two numbers"
   ]
  },
  {
   "cell_type": "raw",
   "id": "868d38e9-b5c0-4f08-b456-be5c6f5004e9",
   "metadata": {},
   "source": [
    "##  3\n",
    "# A function definition is the part of your code where you define what a function does and how it operates.It includes the def keyword followed by the function name, parameter list, and a colon (:) to indicate the start of the function block.Inside it you have decide what  to do this function.FOR EX :-\n",
    "def add_numbers(a, b):\n",
    "    \"\"\"This function adds two numbers.\"\"\"\n",
    "    return a + b\n",
    "  \n",
    "# While a function call  is the action of actually using a defined function by invoking it with specific arguments or parameters. It involves writing the function's name followed by a pair of parentheses containing the arguments or values you want to pass to the function. FOR  EX :-\n",
    "result = add_numbers(5, 3) \n",
    "print(result)"
   ]
  },
  {
   "cell_type": "code",
   "execution_count": 51,
   "id": "7ba6380d-caef-4366-9034-5139ae04a790",
   "metadata": {},
   "outputs": [
    {
     "name": "stdout",
     "output_type": "stream",
     "text": [
      "The sum of two numbers is  87\n"
     ]
    }
   ],
   "source": [
    "##  4\n",
    "# program to add two numbers\n",
    "def add_sum(a,b):\n",
    "  return a+b\n",
    "c=add_sum(32,55)\n",
    "print(\"The sum of two numbers is \",c)"
   ]
  },
  {
   "cell_type": "raw",
   "id": "dc369a9d-af39-42c2-9aeb-25d4d4fce66b",
   "metadata": {},
   "source": [
    "##  5\n",
    "# A function signature, often referred to as a function prototype or declaration, is a concise way of describing a function's interface without including its full implementation.Function signature provides essential information about a function's name, parameters, return type, and visibility. FOR EX :-\n",
    "def add_numbers(a: int, b: int):\n",
    "    return a + b"
   ]
  },
  {
   "cell_type": "code",
   "execution_count": 53,
   "id": "73b70ad2-583c-448e-8ad2-974707630604",
   "metadata": {},
   "outputs": [
    {
     "name": "stdout",
     "output_type": "stream",
     "text": [
      "The product is: 12\n"
     ]
    }
   ],
   "source": [
    "##  6\n",
    "# This function takes two numbers, 'a' and 'b', and returns their product. \n",
    "def multiply(a, b):\n",
    "    return a * b\n",
    "\n",
    "result = multiply(3, 4)\n",
    "print(\"The product is:\", result)"
   ]
  },
  {
   "cell_type": "markdown",
   "id": "03a86eb8-af66-42be-9c36-e5d617a869a5",
   "metadata": {},
   "source": [
    "FUNCTION PARAMETERS AND ARGUMENTS ANSWERS "
   ]
  },
  {
   "cell_type": "raw",
   "id": "d01e3a56-1a49-488d-acfb-12feb88d5dc4",
   "metadata": {},
   "source": [
    "##  1\n",
    "# Formal parameters are placeholders or variables specified in a function's definition. They act as \"receivers\" or \"containers\" for the values that are passed into the function when it is called. FOR EX :-'a' and 'b' are formal parameters\n",
    "def add(a, b):\n",
    "    return a + b\n",
    "# While actual parameters are the values or expressions that are provided to a function when it is called.FOR EX :-'3' and '4' are actual arguments\n",
    "result = add(3, 4)"
   ]
  },
  {
   "cell_type": "code",
   "execution_count": 54,
   "id": "bf582b8f-c0e2-48db-a61d-aa19ecf3e8f2",
   "metadata": {},
   "outputs": [
    {
     "name": "stdout",
     "output_type": "stream",
     "text": [
      "Hello, Alice!\n",
      "Hello, Guest!\n"
     ]
    }
   ],
   "source": [
    "##  2\n",
    "# Default argument are those argument when we call the function without passing any value hen the function pass the defaul value which is passed during making function\n",
    "def greet(name=\"Guest\"):\n",
    "    return f\"Hello, {name}!\"\n",
    "# Providing a name\n",
    "result1 = greet(\"Alice\")\n",
    "# Using the default name\n",
    "result2 = greet()        \n",
    "\n",
    "print(result1)\n",
    "print(result2)"
   ]
  },
  {
   "cell_type": "raw",
   "id": "76c53241-3c3b-4123-9759-57b40416cfb5",
   "metadata": {},
   "source": [
    "##  3\n",
    "# The keyword arguments are used in function calls to  specify the values of function parameters by their parameter names. Keyword arguments are especially useful when you want to provide values for only specific parameters, and you want to make the code more self-explanatory."
   ]
  },
  {
   "cell_type": "code",
   "execution_count": 55,
   "id": "00cfa46b-3e2d-4124-9eab-8402abdb2725",
   "metadata": {},
   "outputs": [
    {
     "name": "stdout",
     "output_type": "stream",
     "text": [
      "Hi ,Ark!\n",
      "Namaste ,Kirti Raj!\n"
     ]
    }
   ],
   "source": [
    "##  3:- remaining code \n",
    "def key_word_fnc(greet=\"Hello\",name=\"Subash\"):\n",
    "  \treturn (f\"{greet} ,{name}!\")\n",
    "\n",
    "result1=key_word_fnc(name=\"Ark\",greet=\"Hi\")\n",
    "result2=key_word_fnc(greet=\"Namaste\",name=\"Kirti Raj\")\n",
    "print(result1)\n",
    "print(result2)"
   ]
  },
  {
   "cell_type": "code",
   "execution_count": 56,
   "id": "ef9cfda1-86fb-4ce0-b409-3eb0170c0a61",
   "metadata": {},
   "outputs": [
    {
     "name": "stdout",
     "output_type": "stream",
     "text": [
      "The sum of numbers are : 104\n",
      "The sum of numbers are : 55\n"
     ]
    }
   ],
   "source": [
    "##  4\n",
    "def sum_numbers(*args):\n",
    "  total=0\n",
    "  for numbers in args:\n",
    "    total += numbers\n",
    "  return total\n",
    "\n",
    "result1=sum_numbers(22,33,4,45)\n",
    "result2=sum_numbers(1,2,3,4,5,6,7,8,9,10)\n",
    "\n",
    "print(\"The sum of numbers are :\",result1)\n",
    "print(\"The sum of numbers are :\",result2)"
   ]
  },
  {
   "cell_type": "raw",
   "id": "6b8bcee8-6577-4013-a3dd-8cb5d932eb9b",
   "metadata": {},
   "source": [
    "##  5\n",
    "#  *args stands for argument and it allow to accept arbitrary number as a tuple form.  While, **kwargs stands for keyword argument and it allow to accept arbitrary number of keyword arguments as a dictionary form."
   ]
  },
  {
   "cell_type": "markdown",
   "id": "e2d35a62-6a5b-4d55-8e22-7a03e4cdae93",
   "metadata": {},
   "source": [
    "RETURN VALUES AND SCOPING ANSWERS"
   ]
  },
  {
   "cell_type": "code",
   "execution_count": 57,
   "id": "a068bdd3-52a2-4ad9-9bb5-276aba111114",
   "metadata": {},
   "outputs": [
    {
     "name": "stdout",
     "output_type": "stream",
     "text": [
      "5\n",
      "('Subash', 23, 'jaunpur')\n",
      "Hello, Bob!\n",
      "None\n"
     ]
    }
   ],
   "source": [
    "##  1\n",
    "# The return statement is used to send a value or values back from a function to the code that called the function.When a return statement is encountered in a function, it immediately terminates the function's execution, and control is returned to the calling code. FOR EX:-\n",
    "# SINGLE  VALUE RETURN\n",
    "def add(a,b):\n",
    "  return a+b\n",
    "result=add(2,3)\n",
    "print(result)\n",
    "# MULTIPLE VALUE RETURN \n",
    "def info():\n",
    "  name=\"Subash\"\n",
    "  age=23\n",
    "  city=\"jaunpur\"\n",
    "  return name, age, city\n",
    "result = info()\n",
    "print(result)\n",
    "# NONE type Value Return\n",
    "def greet(name):\n",
    "    print(f\"Hello, {name}!\")\n",
    "result = greet(\"Bob\")\n",
    "print(result)"
   ]
  },
  {
   "cell_type": "raw",
   "id": "b448b9d3-288a-48e7-b8f3-37ce940be457",
   "metadata": {},
   "source": [
    "##  2\n",
    "# Python, variable scope refers to the region of a program where a particular variable is accessible or visible. Local variable are those which is declared inside the function. They are accesible or sable inside the same function. Global variable are  those which are declared outside the function and can accesible or usable anywhere inside the program. FOR EX :-\n",
    "# Global Variable"
   ]
  },
  {
   "cell_type": "code",
   "execution_count": 60,
   "id": "ccfb25d5-fd36-4bc5-ba90-76e01bb97f56",
   "metadata": {},
   "outputs": [
    {
     "name": "stdout",
     "output_type": "stream",
     "text": [
      "110\n"
     ]
    }
   ],
   "source": [
    "##  2:- remaining answers\n",
    "a=100\n",
    "def addition():\n",
    "  \tglobal a\n",
    "  \tb=10  #  Local Variable\n",
    "  \treturn a+b\n",
    "result=addition()\n",
    "print(result)"
   ]
  },
  {
   "cell_type": "code",
   "execution_count": 61,
   "id": "f2b19b10-7ed4-4386-a5fd-0286b2596942",
   "metadata": {},
   "outputs": [
    {
     "name": "stdout",
     "output_type": "stream",
     "text": [
      "150\n"
     ]
    }
   ],
   "source": [
    "##  3\n",
    "global_variable = 100\n",
    "def gbl_fnc():\n",
    "  \tglobal global_variable\n",
    "  \tglobal_variable += 50\n",
    "  \tprint(global_variable)\n",
    "gbl_fnc()  #  call the function"
   ]
  },
  {
   "cell_type": "code",
   "execution_count": 63,
   "id": "44b5e84c-6995-445d-99ab-8b85efe3c881",
   "metadata": {},
   "outputs": [
    {
     "name": "stdin",
     "output_type": "stream",
     "text": [
      "ENter number : 7\n"
     ]
    },
    {
     "name": "stdout",
     "output_type": "stream",
     "text": [
      "The factorial of  7 is  5040\n"
     ]
    }
   ],
   "source": [
    "##  4\n",
    "# Program to return Fcatorial of number\n",
    "n=int(input(\"ENter number :\"))\n",
    "def  fact(n):\n",
    "  if n<=1:\n",
    "    return n\n",
    "  else:\n",
    "    return n*fact(n-1)\n",
    "result=fact(n)\n",
    "print(\"The factorial of \",n,\"is \",result)"
   ]
  },
  {
   "cell_type": "raw",
   "id": "8ac8d854-b97e-4b9c-8648-cbabf9edd1d4",
   "metadata": {},
   "source": [
    "##  5\n",
    "# We can access the variable defined outside the function within a function by using global keyword."
   ]
  },
  {
   "cell_type": "markdown",
   "id": "170daf4d-9931-4272-8f5f-c9f085fc89f1",
   "metadata": {},
   "source": [
    "LAmbda Functions and Higher-Order Functions ANSWERS"
   ]
  },
  {
   "cell_type": "raw",
   "id": "b42755f8-4436-4a56-a8a6-8f452d2efc82",
   "metadata": {},
   "source": [
    "##  1\n",
    "# Lambda functions in Python are small, anonymous functions defined using the lambda keyword. Lambda functions are used to create simple, short, and one-time-use functions without explicitly naming them using the def keyword."
   ]
  },
  {
   "cell_type": "code",
   "execution_count": 64,
   "id": "f14b8210-1fb9-4436-b3c8-cd5f1734fedf",
   "metadata": {},
   "outputs": [
    {
     "name": "stdout",
     "output_type": "stream",
     "text": [
      "[(3, 1), (4, 2), (7, 3), (5, 4)]\n"
     ]
    }
   ],
   "source": [
    "##  2\n",
    "# Program to sort a list accorrdinng to second element.\n",
    "data = [(5, 4), (3, 1), (7, 3), (4, 2)]\n",
    "\n",
    "sorted_data = sorted(data, key=lambda x: x[1])\n",
    "print(sorted_data)"
   ]
  },
  {
   "cell_type": "code",
   "execution_count": 65,
   "id": "3a57b6ae-891a-4afe-9816-2ccc280b290a",
   "metadata": {},
   "outputs": [
    {
     "name": "stdout",
     "output_type": "stream",
     "text": [
      "[1, 4, 9, 16, 25]\n",
      "['H', 'E', 'Y', ' ', 'H', 'I', ' ', 'I', ' ', 'A', 'M', ' ', 'G', 'R', 'O', 'O', 'T']\n"
     ]
    }
   ],
   "source": [
    "##  3\n",
    "# In Python, higher-order functions are functions that can accept other functions as arguments, return functions as results, or both. For Example :- map,filter and reduce \n",
    "list14=[1,2,3,4,5]\n",
    "print(list(map(lambda a: a*a, list14)))\n",
    "\n",
    "##  4\n",
    "strings=\"Hey hi I am groot\"\n",
    "def uppercase_string(s):\n",
    "    return s.upper()\n",
    "\n",
    "def apply_function_to_list(strings, func):\n",
    "    result = []\n",
    "    for string in strings:\n",
    "        result.append(func(string))\n",
    "    return result\n",
    "result1=apply_function_to_list(strings,uppercase_string)\n",
    "print(result1)"
   ]
  },
  {
   "cell_type": "markdown",
   "id": "8ad9a09d-d07a-4afd-81f5-e19a6983803b",
   "metadata": {},
   "source": [
    "Built In Function ANSWERS"
   ]
  },
  {
   "cell_type": "raw",
   "id": "5234e94d-0131-4c3a-abd8-27ab25a00778",
   "metadata": {},
   "source": [
    "##  1\n",
    "# len() == is used to find the length of the string or element\n",
    "# max() == is used to find the maximum number from data\n",
    "# min() == is used to find the minimum number from the data"
   ]
  },
  {
   "cell_type": "code",
   "execution_count": 66,
   "id": "4580e0c0-ed3b-47a8-be02-191aaeacfcf1",
   "metadata": {},
   "outputs": [
    {
     "name": "stdout",
     "output_type": "stream",
     "text": [
      "[2, 4, 6, 8, 10, 12]\n"
     ]
    }
   ],
   "source": [
    "##  2\n",
    "list15=[1,2,3,4,5,6]\n",
    "print(list(map(lambda a: a*2, list15)))"
   ]
  },
  {
   "cell_type": "raw",
   "id": "1c623d06-c5f4-468e-ab5e-4929868822cb",
   "metadata": {},
   "source": [
    "##  3\n",
    "# The filter() function in Python is a built-in function that is used for filtering elements from an iterable based on a specified condition or function.It returns an iterator containing the elements for which the condition or function evaluates to True.We use it when you want to select an element from iterable on the basis of condition. It is useful when working with large datasets."
   ]
  },
  {
   "cell_type": "code",
   "execution_count": 67,
   "id": "23a8a256-cca7-427b-a777-e4783bf69e93",
   "metadata": {},
   "outputs": [
    {
     "name": "stdout",
     "output_type": "stream",
     "text": [
      "32400\n"
     ]
    }
   ],
   "source": [
    "##  4\n",
    "list16=[1,2,3,45,5,6,4]\n",
    "print(reduce(lambda a,b: a*b ,list16))"
   ]
  },
  {
   "cell_type": "markdown",
   "id": "ccdbdece-33c2-410f-b91c-a81e7a4f1832",
   "metadata": {},
   "source": [
    "Function Documentation and Best Practises ANSWERS"
   ]
  },
  {
   "cell_type": "raw",
   "id": "bdfa6c19-f017-4e2c-b391-0a78eb8e4cf7",
   "metadata": {},
   "source": [
    "##  1\n",
    "#  Docstrings provide clear and concise documentation for functions, making it easier for developers to understand how a function works and how to use it.Increase the readability of the function. Start the docstring with a triple-quoted string (single '''''' or double \"\"\"\"\"\" quotes). "
   ]
  },
  {
   "cell_type": "raw",
   "id": "c985403f-5c0c-460a-9a58-3103ae8f52e5",
   "metadata": {},
   "source": [
    "##  2\n",
    "# For function naming :-\n",
    "# A function's name should provide a meaningful description of what it does. Use lowercase letters and separate words with underscores (_) to improve the readability of function names.\n",
    "\n",
    "# For variable naming :-\n",
    "# Choose names that indicate the purpose or content of the variable.Use lowercase letters and underscores for variable names and avoid long names. \n",
    "\n",
    "# Guidelines :-\n",
    "# Follow the Python Enhancement Proposal 8 (PEP 8) style guide for naming conventions and code formatting. PEP 8 is a widely accepted style guide for Python. Comments are also important for clarity."
   ]
  }
 ],
 "metadata": {
  "kernelspec": {
   "display_name": "Python 3 (ipykernel)",
   "language": "python",
   "name": "python3"
  },
  "language_info": {
   "codemirror_mode": {
    "name": "ipython",
    "version": 3
   },
   "file_extension": ".py",
   "mimetype": "text/x-python",
   "name": "python",
   "nbconvert_exporter": "python",
   "pygments_lexer": "ipython3",
   "version": "3.10.8"
  }
 },
 "nbformat": 4,
 "nbformat_minor": 5
}
